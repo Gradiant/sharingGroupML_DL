{
 "cells": [
  {
   "cell_type": "code",
   "execution_count": 51,
   "metadata": {},
   "outputs": [],
   "source": [
    "import chainer\n",
    "import numpy\n",
    "from seq2seq import Seq2seq\n",
    "from seq2seq import load_npz_no_strict\n",
    "from seq2seq import load_vocabulary\n",
    "from seq2seq import UNK, EOS\n",
    "from seq2seq import (stoch_translate, temp_translate,karpathy_translate, beam_search_translate)"
   ]
  },
  {
   "cell_type": "code",
   "execution_count": 52,
   "metadata": {},
   "outputs": [],
   "source": [
    "\n",
    "\n",
    "# Globals\n",
    "PATH_TO_MODEL = \"../models\"\n",
    "\n",
    "# Some test sentences here\n",
    "TEST_SENTENCES = [\"The European Union promotes the German pickle.\", \n",
    "                  \"The German banks are pressing hard the Greek government.\",\n",
    "                  \"The deputy prime minister of Spain crushed his population with a new tariff.\"]\n",
    "\n",
    "SOURCE_VOCAB = \"../raw_data/vocab.en\"\n",
    "TARGET_VOCAB = \"../raw_data/vocab.es\" \n",
    "\n",
    "# use -1 for CPU\n",
    "GPU_ID = -1\n",
    "UNITS = 1024\n",
    "NUM_LAYERS = 3\n",
    "\n",
    "# Load vocabularies for source and target languages\n",
    "source_ids = load_vocabulary(SOURCE_VOCAB)\n",
    "target_ids = load_vocabulary(TARGET_VOCAB)\n",
    "\n",
    "# inverse dictionaries\n",
    "target_words = {i: w for w, i in target_ids.items()}\n",
    "source_words = {i: w for w, i in source_ids.items()}\n",
    "\n",
    "\n",
    "# Init the model\n",
    "model = Seq2seq(NUM_LAYERS, len(source_ids), len(target_ids), UNITS)\n",
    "\n",
    "# load pretrained model\n",
    "load_npz_no_strict(\"{}/model.npz\".format(PATH_TO_MODEL), model)\n",
    "\n",
    "# send model to GPU\n",
    "if GPU_ID >= 0:\n",
    "    chainer.cuda.get_device(GPU_ID).use()\n",
    "    model.to_gpu(GPU_ID)\n",
    "    \n",
    "def preprocess(vocabulary, sentence_list):\n",
    "    \"\"\" Translate a sentence to an ID sequence \n",
    "    Parameters:\n",
    "    ----------\n",
    "    vocabulary: source dict with word/id (key/value)\n",
    "    sentence_list: list of strs\n",
    "    \n",
    "    \"\"\"\n",
    "    data = []\n",
    "    for line in sentence_list:\n",
    "        words = line.strip().split()\n",
    "        array = numpy.array([vocabulary.get(w, UNK) for w in words], 'i')\n",
    "        data.append(array)\n",
    "    return data\n"
   ]
  },
  {
   "cell_type": "code",
   "execution_count": null,
   "metadata": {},
   "outputs": [],
   "source": []
  },
  {
   "cell_type": "code",
   "execution_count": 53,
   "metadata": {},
   "outputs": [
    {
     "name": "stdout",
     "output_type": "stream",
     "text": [
      "SENTENCE  [array([  16,  265,  299, 4230,    2, 3286,    0], dtype=int32), array([  16, 3286, 3355,   31, 4631, 3508,    2, 5010,    0], dtype=int32), array([   16,  7101,  7309,  8231,     4,  1311, 29466,   120,   334,\n",
      "          19,     9,   111,     0], dtype=int32)]\n"
     ]
    }
   ],
   "source": [
    "# Preprocess Test sentences\n",
    "sentence_list = preprocess(source_ids, TEST_SENTENCES)\n",
    "\n",
    "print (\"SENTENCE \", sentence_list)"
   ]
  },
  {
   "cell_type": "code",
   "execution_count": 54,
   "metadata": {},
   "outputs": [
    {
     "name": "stdout",
     "output_type": "stream",
     "text": [
      "Target:  The European Union promotes the German pickle.\n",
      "Result:  La Unión Europea promueve la <UNK> <UNK>\n",
      "Target:  The German banks are pressing hard the Greek government.\n",
      "Result:  Los bancos alemanes son <UNK> <UNK> de la <UNK> griega\n",
      "Target:  The deputy prime minister of Spain crushed his population with a new tariff.\n",
      "Result:  El jefe de la <UNK> <UNK> <UNK> con España con su población <UNK>\n"
     ]
    }
   ],
   "source": [
    "# 1-step argmax translation\n",
    "for sentence, target in zip(sentence_list, TEST_SENTENCES):\n",
    "    out = model.translate([sentence])\n",
    "    print (\"Target: \", target)\n",
    "    result_sentence = ' '.join([target_words[y] for y in out[0].tolist()])\n",
    "    print (\"Result: \", result_sentence)\n",
    "    "
   ]
  },
  {
   "cell_type": "code",
   "execution_count": 55,
   "metadata": {},
   "outputs": [
    {
     "name": "stdout",
     "output_type": "stream",
     "text": [
      "Target:  The European Union promotes the German pickle.\n",
      "Result:  La Unión Europea promueve la igualdad \" <UNK> \" .\n",
      "Target:  The European Union promotes the German pickle.\n",
      "Result:  La Unión Europea promueve el boicoteo \" alemán \"\n",
      "Target:  The European Union promotes the German pickle.\n",
      "Result:  La Unión Europea fomenta la base <UNK> alemana .\n",
      "Target:  The European Union promotes the German pickle.\n",
      "Result:  La Unión Europea promueve la firma de la <UNK> alemana .\n",
      "Target:  The German banks are pressing hard the Greek government.\n",
      "Result:  Los bancos alemanes respaldan la inversa los grecochipriotas\n",
      "Target:  The German banks are pressing hard the Greek government.\n",
      "Result:  La condición de alemán niega los “Estados <UNK> <UNK> Powell .\n",
      "Target:  The German banks are pressing hard the Greek government.\n",
      "Result:  Los respectivos bancos griegos reciben la Convención <UNK>\n",
      "Target:  The German banks are pressing hard the Greek government.\n",
      "Result:  <UNK> für <UNK> <UNK> den 00 sus recursos .\n",
      "Target:  The deputy prime minister of Spain crushed his population with a new tariff.\n",
      "Result:  El jefe de alto comisionado del España <UNK> con sus descendientes a un nuevo <UNK> \"\n",
      "Target:  The deputy prime minister of Spain crushed his population with a new tariff.\n",
      "Result:  El jefe adjunto de España de Gobierno mantiene su posición de partida de la nueva población <UNK> .\n",
      "Target:  The deputy prime minister of Spain crushed his population with a new tariff.\n",
      "Result:  El Viceministro de Defensa de España reforzó su condición de ciudadana españoles con un empleador nuevo\n",
      "Target:  The deputy prime minister of Spain crushed his population with a new tariff.\n",
      "Result:  El jefe del departamento español denunció un español a España .\n"
     ]
    }
   ],
   "source": [
    "# Use stochastic sampling (typically used in language models to obtain diversity in samples)\n",
    "NUM_SAMPLES_PER_SENTENCE = 4\n",
    "for sentence, target in zip(sentence_list, TEST_SENTENCES):\n",
    "    for i in range(NUM_SAMPLES_PER_SENTENCE):\n",
    "        out = stoch_translate(model, [sentence])\n",
    "        print (\"Target: \", target)\n",
    "        result_sentence = ' '.join([target_words[y] for y in out[0].tolist()])\n",
    "        print (\"Result: \", result_sentence)"
   ]
  },
  {
   "cell_type": "code",
   "execution_count": 48,
   "metadata": {},
   "outputs": [
    {
     "name": "stdout",
     "output_type": "stream",
     "text": [
      "Target:  The European Union promotes the German pickle.\n",
      "Result 0.1: La Unión Europea fomenta la <UNK> alemana\n",
      "Target:  The European Union promotes the German pickle.\n",
      "Result 0.1: La Unión Europea promueve la privatización alemana\n",
      "Target:  The European Union promotes the German pickle.\n",
      "Result 0.1: La Unión Europea promueve la <UNK> <UNK>\n",
      "Target:  The European Union promotes the German pickle.\n",
      "Result 0.1: La UE promueve la <UNK> \" Alemania \"\n",
      "Target:  The German banks are pressing hard the Greek government.\n",
      "Result 0.1: Los bancos griegos están gravemente siendo escépticos sin resolver .\n",
      "Target:  The German banks are pressing hard the Greek government.\n",
      "Result 0.1: Nouvelles Steiner es <UNK> <UNK> <UNK> para la <UNK>\n",
      "Target:  The German banks are pressing hard the Greek government.\n",
      "Result 0.1: Los bancos alemanes son <UNK> de una forma seria de Grecia\n",
      "Target:  The German banks are pressing hard the Greek government.\n",
      "Result 0.1: Los bancos alemanes son <UNK> en lo que se refiere a la honorable <UNK> .\n",
      "Target:  The deputy prime minister of Spain crushed his population with a new tariff.\n",
      "Result 0.1: Mayor Viceprimera Ministra española <UNK> a España , con un nuevo jefe .\n",
      "Target:  The deputy prime minister of Spain crushed his population with a new tariff.\n",
      "Result 0.1: El jefe del departamento con España <UNK> a su población con un nuevo <UNK>\n",
      "Target:  The deputy prime minister of Spain crushed his population with a new tariff.\n",
      "Result 0.1: El adjunto del ministro español vino dirigido directamente a su población <UNK> determinando una nueva <UNK> .\n",
      "Target:  The deputy prime minister of Spain crushed his population with a new tariff.\n",
      "Result 0.1: El Jefe del <UNK> de España entrevistó a la población con un nuevo <UNK> \"\n"
     ]
    }
   ],
   "source": [
    "# Use temperature to choose between argmax samples and stochastic sampling\n",
    "NUM_SAMPLES_PER_SENTENCE = 4\n",
    "TEMPERATURE = 0.1\n",
    "\n",
    "for sentence, target in zip(sentence_list, TEST_SENTENCES):\n",
    "    for i in range(NUM_SAMPLES_PER_SENTENCE):\n",
    "        out = temp_translate(model, [sentence])\n",
    "        print (\"Target: \", target)\n",
    "        result_sentence = ' '.join([target_words[y] for y in out[0].tolist()])\n",
    "        print (\"Result {}: {}\".format(TEMPERATURE, result_sentence))\n",
    "        \n",
    "\n"
   ]
  },
  {
   "cell_type": "code",
   "execution_count": 49,
   "metadata": {},
   "outputs": [
    {
     "name": "stdout",
     "output_type": "stream",
     "text": [
      "Target:  The European Union promotes the German pickle.\n",
      "Result 5.9: La Unión Europea promueve la <UNK> <UNK>\n",
      "Target:  The European Union promotes the German pickle.\n",
      "Result 5.9: La Unión Europea fomenta la <UNK> alemana .\n",
      "Target:  The European Union promotes the German pickle.\n",
      "Result 5.9: La Unión Europea promueve las <UNK> <UNK>\n",
      "Target:  The European Union promotes the German pickle.\n",
      "Result 5.9: La Unión Europea promueve la <UNK> <UNK>\n",
      "Target:  The German banks are pressing hard the Greek government.\n",
      "Result 5.9: Los bancos alemanes son particularmente difíciles de resolver sordos .\n",
      "Target:  The German banks are pressing hard the Greek government.\n",
      "Result 5.9: Los bancos alemanes son <UNK> críticos en el <UNK>\n",
      "Target:  The German banks are pressing hard the Greek government.\n",
      "Result 5.9: Los bancos alemanes son <UNK> sin el <UNK> de <UNK> .\n",
      "Target:  The German banks are pressing hard the Greek government.\n",
      "Result 5.9: Los bancos alemanes son débiles y han sido <UNK> por el hombre .\n",
      "Target:  The deputy prime minister of Spain crushed his population with a new tariff.\n",
      "Result 5.9: El Viceprimer Ministro de España nombra a su población con un nuevo <UNK>\n",
      "Target:  The deputy prime minister of Spain crushed his population with a new tariff.\n",
      "Result 5.9: El jefe del departamento <UNK> de España mantiene su personalidad con un nuevo <UNK>\n",
      "Target:  The deputy prime minister of Spain crushed his population with a new tariff.\n",
      "Result 5.9: El Jefe Adjunto de España <UNK> su población con un nuevo <UNK>\n",
      "Target:  The deputy prime minister of Spain crushed his population with a new tariff.\n",
      "Result 5.9: El Jefe de la <UNK> , que <UNK> a España , se compone de un nuevo <UNK> .\n"
     ]
    }
   ],
   "source": [
    "# Use temperature (Karpathy) to directly modify probs before sampling. \n",
    "# With low temperature the model is more convervative\n",
    "# With higher temperature the output is less consistent (gramatically speaking)\n",
    "\n",
    "NUM_SAMPLES_PER_SENTENCE\n",
    "TEMPERATURE = 5.9\n",
    "\n",
    "for sentence, target in zip(sentence_list, TEST_SENTENCES):\n",
    "    for i in range(NUM_SAMPLES_PER_SENTENCE):\n",
    "        out = karpathy_translate(model, [sentence])\n",
    "        print (\"Target: \", target)\n",
    "        result_sentence = ' '.join([target_words[y] for y in out[0].tolist()])\n",
    "        print (\"Result {}: {}\".format(TEMPERATURE, result_sentence))"
   ]
  },
  {
   "cell_type": "code",
   "execution_count": 57,
   "metadata": {},
   "outputs": [
    {
     "name": "stderr",
     "output_type": "stream",
     "text": [
      "/media/hcerezo/7ab36923-d61a-42bf-b119-e1820eb4fa22/nmt/myseq2seq/seq2seq.py:299: RuntimeWarning: invalid value encountered in log\n",
      "  cand_scores = hyp_scores[:, None] - model.xp.log(probs_data[:live_k, :])\n"
     ]
    },
    {
     "name": "stdout",
     "output_type": "stream",
     "text": [
      "Target:  The European Union promotes the German pickle.\n",
      "Results 6.001535415649414: La Unión Europea fomenta el boicoteo alemán <EOS>\n",
      "Results 6.042962074279785: La Unión Europea promueve el boicoteo alemán <EOS>\n",
      "Results 6.442540168762207: La Unión Europea promueve la privatización alemana <EOS>\n",
      "Results 7.401790142059326: La Unión Europea promueve el boicoteo de Alemania <EOS>\n",
      "Results 7.685765266418457: La Unión Europea fomenta el boicoteo de Alemania <EOS>\n",
      "Results 8.061744689941406: La Unión Europea promueve la privatización alemana . <EOS>\n",
      "Results 8.833370208740234: La Unión Europea promueve la privatización de Alemania <EOS>\n",
      "Results 9.2477388381958: La Unión Europea promueve el boicoteo de Alemania . <EOS>\n",
      "Results 9.69877815246582: La Unión Europea fomenta el boicoteo de Alemania . <EOS>\n",
      "Results 10.125044822692871: La Unión Europea promueve el boicoteo de Alemania ; <EOS>\n",
      "Target:  The German banks are pressing hard the Greek government.\n",
      "Results 10.088885307312012: Los bancos alemanes son particularmente difíciles de resolver <EOS>\n",
      "Results 10.140202522277832: Los bancos alemanes son particularmente difíciles de resolver . <EOS>\n",
      "Results 13.653640747070312: Los bancos alemanes son particularmente difíciles en el caso de los grecochipriotas <EOS>\n",
      "Results 13.747238159179688: Los bancos alemanes son particularmente difíciles de hacer frente a los griegos <EOS>\n",
      "Results 14.07077407836914: Los bancos alemanes son particularmente difíciles de hacer frente a los grecochipriotas <EOS>\n",
      "Results 14.199260711669922: Los bancos alemanes son especialmente difíciles de hacer frente a los griegos <EOS>\n",
      "Results 14.38851261138916: Los bancos alemanes son particularmente difíciles en el caso de los griegos <EOS>\n",
      "Results 13.74348258972168: Los bancos alemanes son particularmente difíciles en el caso de los grecochipriotas . <EOS>\n",
      "Results 14.175557136535645: Los bancos alemanes son particularmente difíciles de hacer frente a los griegos . <EOS>\n",
      "Results 18.514284133911133: Los bancos alemanes son particularmente difíciles de hacer frente a la promesa de los grecochipriotas <EOS>\n",
      "Target:  The deputy prime minister of Spain crushed his population with a new tariff.\n",
      "Results 14.344072341918945: El Viceprimer Ministro de España nombra a su población con un nuevo jefe <EOS>\n",
      "Results 14.498350143432617: El Viceprimer Ministro de España nombra a su población con un nuevo jefe . <EOS>\n",
      "Results 15.824606895446777: El Viceministro de Defensa de España nombra a su población con un nuevo jefe <EOS>\n",
      "Results 16.125534057617188: El Viceministro de Defensa de España nombra a su población con un nuevo jefe . <EOS>\n",
      "Results 17.64069366455078: El Viceprimer Ministro de España nombra a su pueblo con un nuevo jefe de población <EOS>\n",
      "Results 18.305395126342773: El Viceprimer Ministro de España nombra a su pueblo con un nuevo jefe de población . <EOS>\n",
      "Results 19.254281997680664: El Viceministro de Defensa de España nombra a su población con una nueva línea de trabajo <EOS>\n",
      "Results 19.923404693603516: El Viceministro de Defensa de España nombra a su pueblo con un nuevo jefe de población <EOS>\n",
      "Results 19.273561477661133: El Viceministro de Defensa de España nombra a su población con una nueva línea de trabajo . <EOS>\n",
      "Results 20.01774024963379: El Viceministro de Defensa de España nombra a su población con una nueva línea de base . <EOS>\n"
     ]
    }
   ],
   "source": [
    "# Beam search. Mantain K best sequences at each step. It is a way to delay the decision of the next step\n",
    "# However, similar samples are typically obtained. Used in translation with very large beams.\n",
    "K_BEAM = 10\n",
    "USE_UNK = False\n",
    "\n",
    "for sentence, target in zip(sentence_list, TEST_SENTENCES):\n",
    "    out, score = beam_search_translate(model, [sentence], K_BEAM, use_unk=USE_UNK)\n",
    "    print (\"Target: \", target)\n",
    "    for i in range(len(out)):\n",
    "        result_sentence = ' '.join([target_words[y] for y in out[i]])\n",
    "        print (\"Results {}: {}\".format(score[i], result_sentence))\n",
    "    "
   ]
  },
  {
   "cell_type": "code",
   "execution_count": null,
   "metadata": {},
   "outputs": [],
   "source": []
  },
  {
   "cell_type": "code",
   "execution_count": null,
   "metadata": {},
   "outputs": [],
   "source": []
  },
  {
   "cell_type": "code",
   "execution_count": null,
   "metadata": {},
   "outputs": [],
   "source": []
  }
 ],
 "metadata": {
  "kernelspec": {
   "display_name": "Python 3",
   "language": "python",
   "name": "python3"
  },
  "language_info": {
   "codemirror_mode": {
    "name": "ipython",
    "version": 3
   },
   "file_extension": ".py",
   "mimetype": "text/x-python",
   "name": "python",
   "nbconvert_exporter": "python",
   "pygments_lexer": "ipython3",
   "version": "3.5.2"
  }
 },
 "nbformat": 4,
 "nbformat_minor": 2
}
